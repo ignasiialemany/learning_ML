{
 "cells": [
  {
   "cell_type": "code",
   "execution_count": 1,
   "metadata": {},
   "outputs": [],
   "source": [
    "#import split data\n",
    "from sklearn.model_selection import train_test_split\n",
    "import numpy as np\n",
    "from scipy.stats import truncnorm\n",
    "import pandas as pd\n",
    "\n",
    "\n"
   ]
  },
  {
   "cell_type": "markdown",
   "metadata": {},
   "source": [
    "**Train and prediction**"
   ]
  },
  {
   "cell_type": "code",
   "execution_count": 2,
   "metadata": {},
   "outputs": [
    {
     "name": "stdout",
     "output_type": "stream",
     "text": [
      "Train data\n",
      "  country              store             product  num_sold  is_weekend  \\\n",
      "1  Canada  Discount Stickers              Kaggle     973.0       False   \n",
      "2  Canada  Discount Stickers        Kaggle Tiers     906.0       False   \n",
      "3  Canada  Discount Stickers            Kerneler     423.0       False   \n",
      "4  Canada  Discount Stickers  Kerneler Dark Mode     491.0       False   \n",
      "5  Canada  Stickers for Less   Holographic Goose     300.0       False   \n",
      "\n",
      "   sin_dayofweek  cos_dayofweek  sin_month  cos_month  sin_year  cos_year  \n",
      "1      -0.433884      -0.900969        0.0        1.0       0.0       1.0  \n",
      "2      -0.433884      -0.900969        0.0        1.0       0.0       1.0  \n",
      "3      -0.433884      -0.900969        0.0        1.0       0.0       1.0  \n",
      "4      -0.433884      -0.900969        0.0        1.0       0.0       1.0  \n",
      "5      -0.433884      -0.900969        0.0        1.0       0.0       1.0  \n",
      "Test data\n",
      "       id country              store             product  is_weekend  \\\n",
      "0  230130  Canada  Discount Stickers   Holographic Goose        True   \n",
      "1  230131  Canada  Discount Stickers              Kaggle        True   \n",
      "2  230132  Canada  Discount Stickers        Kaggle Tiers        True   \n",
      "3  230133  Canada  Discount Stickers            Kerneler        True   \n",
      "4  230134  Canada  Discount Stickers  Kerneler Dark Mode        True   \n",
      "\n",
      "   sin_dayofweek  cos_dayofweek  sin_month  cos_month  sin_year  cos_year  \n",
      "0      -0.781831        0.62349        0.0        1.0 -0.951057 -0.309017  \n",
      "1      -0.781831        0.62349        0.0        1.0 -0.951057 -0.309017  \n",
      "2      -0.781831        0.62349        0.0        1.0 -0.951057 -0.309017  \n",
      "3      -0.781831        0.62349        0.0        1.0 -0.951057 -0.309017  \n",
      "4      -0.781831        0.62349        0.0        1.0 -0.951057 -0.309017  \n"
     ]
    }
   ],
   "source": [
    "\n",
    "from sklearn.pipeline import Pipeline\n",
    "from sklearn.compose import TransformedTargetRegressor\n",
    "from sklearn.ensemble import RandomForestRegressor\n",
    "from sklearn.linear_model import LinearRegression\n",
    "from sklearn.metrics import mean_absolute_percentage_error\n",
    "from sklearn.model_selection import TimeSeriesSplit\n",
    "from sklearn.compose import ColumnTransformer\n",
    "from sklearn.preprocessing import StandardScaler, OneHotEncoder\n",
    "from sklearn.impute import SimpleImputer\n",
    "import pandas as pd\n",
    "\n",
    "def generate_features(X, train=False):\n",
    "    X = X.copy()\n",
    "        \n",
    "    if train:\n",
    "        X = X.dropna(subset=[\"num_sold\"])\n",
    "        X = X.drop(columns=[\"id\"])\n",
    "\n",
    "    X[\"date\"] = pd.to_datetime(X[\"date\"], format=\"%Y-%m-%d\")\n",
    "    X[\"dayofweek\"] = X[\"date\"].dt.dayofweek\n",
    "    X[\"month\"] = X[\"date\"].dt.month - 1\n",
    "    X[\"year\"] = X[\"date\"].dt.year - 2010\n",
    "    X[\"is_weekend\"] = X[\"dayofweek\"].isin([5,6])\n",
    "        \n",
    "    X[\"sin_dayofweek\"] = np.sin(X[\"dayofweek\"] * (2 * np.pi / 7))\n",
    "    X[\"cos_dayofweek\"] = np.cos(X[\"dayofweek\"] * (2 * np.pi / 7))\n",
    "    X[\"sin_month\"] = np.sin(X[\"month\"] * (2 * np.pi / 12))\n",
    "    X[\"cos_month\"] = np.cos(X[\"month\"] * (2 * np.pi / 12))\n",
    "    X[\"sin_year\"] = np.sin(X[\"year\"] * (2 * np.pi / 10))\n",
    "    X[\"cos_year\"] = np.cos(X[\"year\"] * (2 * np.pi / 10))\n",
    "    \n",
    "    X = X.drop(columns=[\"date\",\"month\",\"year\",\"dayofweek\"])    \n",
    "    return X\n",
    "\n",
    "FOLDER = \"playground-series-s5e1/\"\n",
    "train_data = pd.read_csv(FOLDER + \"train.csv\")\n",
    "test_data = pd.read_csv(FOLDER + \"test.csv\")\n",
    "\n",
    "train_data = generate_features(train_data,train=True)\n",
    "test_data = generate_features(test_data)\n",
    "\n",
    "print(\"Train data\")\n",
    "print(train_data.head())\n",
    "print(\"Test data\")\n",
    "print(test_data.head())\n"
   ]
  },
  {
   "cell_type": "code",
   "execution_count": 3,
   "metadata": {},
   "outputs": [],
   "source": [
    "X = train_data.drop(columns=['num_sold'])\n",
    "y = train_data['num_sold']\n",
    "\n",
    "cat_cols = ['country', 'store', 'product']\n",
    "num_cols = [\"sin_dayofweek\", \"cos_dayofweek\", \"sin_month\", \"cos_month\", \"sin_year\", \"cos_year\"]\n",
    "\n",
    "#Create a numeric transformer with imputer and scaler\n",
    "numeric_transformer = Pipeline(steps=[\n",
    "    ('scaler', StandardScaler())\n",
    "])\n",
    "\n",
    "categorical_transformer = Pipeline(steps=[\n",
    "    ('encoder', OneHotEncoder(handle_unknown='ignore'))\n",
    "])\n",
    "\n",
    "preprocessor = ColumnTransformer(transformers=[\n",
    "    ('num', numeric_transformer, num_cols),\n",
    "    ('cat', categorical_transformer, cat_cols)\n",
    "])\n",
    "\n",
    "model_pipeline = Pipeline(steps=[\n",
    "    ('preprocessor', preprocessor),\n",
    "    ('regressor', RandomForestRegressor(n_estimators=50, random_state=42))\n",
    "])\n"
   ]
  },
  {
   "cell_type": "code",
   "execution_count": 4,
   "metadata": {},
   "outputs": [
    {
     "name": "stdout",
     "output_type": "stream",
     "text": [
      "MAPE: 0.09002418397708276\n",
      "MAPE: 0.08633618478424229\n",
      "MAPE: 0.08134808649381839\n",
      "MAPE: 0.10526276780775626\n",
      "MAPE: 0.08089637594129193\n"
     ]
    },
    {
     "data": {
      "text/html": [
       "<style>#sk-container-id-1 {color: black;background-color: white;}#sk-container-id-1 pre{padding: 0;}#sk-container-id-1 div.sk-toggleable {background-color: white;}#sk-container-id-1 label.sk-toggleable__label {cursor: pointer;display: block;width: 100%;margin-bottom: 0;padding: 0.3em;box-sizing: border-box;text-align: center;}#sk-container-id-1 label.sk-toggleable__label-arrow:before {content: \"▸\";float: left;margin-right: 0.25em;color: #696969;}#sk-container-id-1 label.sk-toggleable__label-arrow:hover:before {color: black;}#sk-container-id-1 div.sk-estimator:hover label.sk-toggleable__label-arrow:before {color: black;}#sk-container-id-1 div.sk-toggleable__content {max-height: 0;max-width: 0;overflow: hidden;text-align: left;background-color: #f0f8ff;}#sk-container-id-1 div.sk-toggleable__content pre {margin: 0.2em;color: black;border-radius: 0.25em;background-color: #f0f8ff;}#sk-container-id-1 input.sk-toggleable__control:checked~div.sk-toggleable__content {max-height: 200px;max-width: 100%;overflow: auto;}#sk-container-id-1 input.sk-toggleable__control:checked~label.sk-toggleable__label-arrow:before {content: \"▾\";}#sk-container-id-1 div.sk-estimator input.sk-toggleable__control:checked~label.sk-toggleable__label {background-color: #d4ebff;}#sk-container-id-1 div.sk-label input.sk-toggleable__control:checked~label.sk-toggleable__label {background-color: #d4ebff;}#sk-container-id-1 input.sk-hidden--visually {border: 0;clip: rect(1px 1px 1px 1px);clip: rect(1px, 1px, 1px, 1px);height: 1px;margin: -1px;overflow: hidden;padding: 0;position: absolute;width: 1px;}#sk-container-id-1 div.sk-estimator {font-family: monospace;background-color: #f0f8ff;border: 1px dotted black;border-radius: 0.25em;box-sizing: border-box;margin-bottom: 0.5em;}#sk-container-id-1 div.sk-estimator:hover {background-color: #d4ebff;}#sk-container-id-1 div.sk-parallel-item::after {content: \"\";width: 100%;border-bottom: 1px solid gray;flex-grow: 1;}#sk-container-id-1 div.sk-label:hover label.sk-toggleable__label {background-color: #d4ebff;}#sk-container-id-1 div.sk-serial::before {content: \"\";position: absolute;border-left: 1px solid gray;box-sizing: border-box;top: 0;bottom: 0;left: 50%;z-index: 0;}#sk-container-id-1 div.sk-serial {display: flex;flex-direction: column;align-items: center;background-color: white;padding-right: 0.2em;padding-left: 0.2em;position: relative;}#sk-container-id-1 div.sk-item {position: relative;z-index: 1;}#sk-container-id-1 div.sk-parallel {display: flex;align-items: stretch;justify-content: center;background-color: white;position: relative;}#sk-container-id-1 div.sk-item::before, #sk-container-id-1 div.sk-parallel-item::before {content: \"\";position: absolute;border-left: 1px solid gray;box-sizing: border-box;top: 0;bottom: 0;left: 50%;z-index: -1;}#sk-container-id-1 div.sk-parallel-item {display: flex;flex-direction: column;z-index: 1;position: relative;background-color: white;}#sk-container-id-1 div.sk-parallel-item:first-child::after {align-self: flex-end;width: 50%;}#sk-container-id-1 div.sk-parallel-item:last-child::after {align-self: flex-start;width: 50%;}#sk-container-id-1 div.sk-parallel-item:only-child::after {width: 0;}#sk-container-id-1 div.sk-dashed-wrapped {border: 1px dashed gray;margin: 0 0.4em 0.5em 0.4em;box-sizing: border-box;padding-bottom: 0.4em;background-color: white;}#sk-container-id-1 div.sk-label label {font-family: monospace;font-weight: bold;display: inline-block;line-height: 1.2em;}#sk-container-id-1 div.sk-label-container {text-align: center;}#sk-container-id-1 div.sk-container {/* jupyter's `normalize.less` sets `[hidden] { display: none; }` but bootstrap.min.css set `[hidden] { display: none !important; }` so we also need the `!important` here to be able to override the default hidden behavior on the sphinx rendered scikit-learn.org. See: https://github.com/scikit-learn/scikit-learn/issues/21755 */display: inline-block !important;position: relative;}#sk-container-id-1 div.sk-text-repr-fallback {display: none;}</style><div id=\"sk-container-id-1\" class=\"sk-top-container\"><div class=\"sk-text-repr-fallback\"><pre>Pipeline(steps=[(&#x27;preprocessor&#x27;,\n",
       "                 ColumnTransformer(transformers=[(&#x27;num&#x27;,\n",
       "                                                  Pipeline(steps=[(&#x27;scaler&#x27;,\n",
       "                                                                   StandardScaler())]),\n",
       "                                                  [&#x27;sin_dayofweek&#x27;,\n",
       "                                                   &#x27;cos_dayofweek&#x27;, &#x27;sin_month&#x27;,\n",
       "                                                   &#x27;cos_month&#x27;, &#x27;sin_year&#x27;,\n",
       "                                                   &#x27;cos_year&#x27;]),\n",
       "                                                 (&#x27;cat&#x27;,\n",
       "                                                  Pipeline(steps=[(&#x27;encoder&#x27;,\n",
       "                                                                   OneHotEncoder(handle_unknown=&#x27;ignore&#x27;))]),\n",
       "                                                  [&#x27;country&#x27;, &#x27;store&#x27;,\n",
       "                                                   &#x27;product&#x27;])])),\n",
       "                (&#x27;regressor&#x27;,\n",
       "                 RandomForestRegressor(n_estimators=50, random_state=42))])</pre><b>In a Jupyter environment, please rerun this cell to show the HTML representation or trust the notebook. <br />On GitHub, the HTML representation is unable to render, please try loading this page with nbviewer.org.</b></div><div class=\"sk-container\" hidden><div class=\"sk-item sk-dashed-wrapped\"><div class=\"sk-label-container\"><div class=\"sk-label sk-toggleable\"><input class=\"sk-toggleable__control sk-hidden--visually\" id=\"sk-estimator-id-1\" type=\"checkbox\" ><label for=\"sk-estimator-id-1\" class=\"sk-toggleable__label sk-toggleable__label-arrow\">Pipeline</label><div class=\"sk-toggleable__content\"><pre>Pipeline(steps=[(&#x27;preprocessor&#x27;,\n",
       "                 ColumnTransformer(transformers=[(&#x27;num&#x27;,\n",
       "                                                  Pipeline(steps=[(&#x27;scaler&#x27;,\n",
       "                                                                   StandardScaler())]),\n",
       "                                                  [&#x27;sin_dayofweek&#x27;,\n",
       "                                                   &#x27;cos_dayofweek&#x27;, &#x27;sin_month&#x27;,\n",
       "                                                   &#x27;cos_month&#x27;, &#x27;sin_year&#x27;,\n",
       "                                                   &#x27;cos_year&#x27;]),\n",
       "                                                 (&#x27;cat&#x27;,\n",
       "                                                  Pipeline(steps=[(&#x27;encoder&#x27;,\n",
       "                                                                   OneHotEncoder(handle_unknown=&#x27;ignore&#x27;))]),\n",
       "                                                  [&#x27;country&#x27;, &#x27;store&#x27;,\n",
       "                                                   &#x27;product&#x27;])])),\n",
       "                (&#x27;regressor&#x27;,\n",
       "                 RandomForestRegressor(n_estimators=50, random_state=42))])</pre></div></div></div><div class=\"sk-serial\"><div class=\"sk-item sk-dashed-wrapped\"><div class=\"sk-label-container\"><div class=\"sk-label sk-toggleable\"><input class=\"sk-toggleable__control sk-hidden--visually\" id=\"sk-estimator-id-2\" type=\"checkbox\" ><label for=\"sk-estimator-id-2\" class=\"sk-toggleable__label sk-toggleable__label-arrow\">preprocessor: ColumnTransformer</label><div class=\"sk-toggleable__content\"><pre>ColumnTransformer(transformers=[(&#x27;num&#x27;,\n",
       "                                 Pipeline(steps=[(&#x27;scaler&#x27;, StandardScaler())]),\n",
       "                                 [&#x27;sin_dayofweek&#x27;, &#x27;cos_dayofweek&#x27;, &#x27;sin_month&#x27;,\n",
       "                                  &#x27;cos_month&#x27;, &#x27;sin_year&#x27;, &#x27;cos_year&#x27;]),\n",
       "                                (&#x27;cat&#x27;,\n",
       "                                 Pipeline(steps=[(&#x27;encoder&#x27;,\n",
       "                                                  OneHotEncoder(handle_unknown=&#x27;ignore&#x27;))]),\n",
       "                                 [&#x27;country&#x27;, &#x27;store&#x27;, &#x27;product&#x27;])])</pre></div></div></div><div class=\"sk-parallel\"><div class=\"sk-parallel-item\"><div class=\"sk-item\"><div class=\"sk-label-container\"><div class=\"sk-label sk-toggleable\"><input class=\"sk-toggleable__control sk-hidden--visually\" id=\"sk-estimator-id-3\" type=\"checkbox\" ><label for=\"sk-estimator-id-3\" class=\"sk-toggleable__label sk-toggleable__label-arrow\">num</label><div class=\"sk-toggleable__content\"><pre>[&#x27;sin_dayofweek&#x27;, &#x27;cos_dayofweek&#x27;, &#x27;sin_month&#x27;, &#x27;cos_month&#x27;, &#x27;sin_year&#x27;, &#x27;cos_year&#x27;]</pre></div></div></div><div class=\"sk-serial\"><div class=\"sk-item\"><div class=\"sk-serial\"><div class=\"sk-item\"><div class=\"sk-estimator sk-toggleable\"><input class=\"sk-toggleable__control sk-hidden--visually\" id=\"sk-estimator-id-4\" type=\"checkbox\" ><label for=\"sk-estimator-id-4\" class=\"sk-toggleable__label sk-toggleable__label-arrow\">StandardScaler</label><div class=\"sk-toggleable__content\"><pre>StandardScaler()</pre></div></div></div></div></div></div></div></div><div class=\"sk-parallel-item\"><div class=\"sk-item\"><div class=\"sk-label-container\"><div class=\"sk-label sk-toggleable\"><input class=\"sk-toggleable__control sk-hidden--visually\" id=\"sk-estimator-id-5\" type=\"checkbox\" ><label for=\"sk-estimator-id-5\" class=\"sk-toggleable__label sk-toggleable__label-arrow\">cat</label><div class=\"sk-toggleable__content\"><pre>[&#x27;country&#x27;, &#x27;store&#x27;, &#x27;product&#x27;]</pre></div></div></div><div class=\"sk-serial\"><div class=\"sk-item\"><div class=\"sk-serial\"><div class=\"sk-item\"><div class=\"sk-estimator sk-toggleable\"><input class=\"sk-toggleable__control sk-hidden--visually\" id=\"sk-estimator-id-6\" type=\"checkbox\" ><label for=\"sk-estimator-id-6\" class=\"sk-toggleable__label sk-toggleable__label-arrow\">OneHotEncoder</label><div class=\"sk-toggleable__content\"><pre>OneHotEncoder(handle_unknown=&#x27;ignore&#x27;)</pre></div></div></div></div></div></div></div></div></div></div><div class=\"sk-item\"><div class=\"sk-estimator sk-toggleable\"><input class=\"sk-toggleable__control sk-hidden--visually\" id=\"sk-estimator-id-7\" type=\"checkbox\" ><label for=\"sk-estimator-id-7\" class=\"sk-toggleable__label sk-toggleable__label-arrow\">RandomForestRegressor</label><div class=\"sk-toggleable__content\"><pre>RandomForestRegressor(n_estimators=50, random_state=42)</pre></div></div></div></div></div></div></div>"
      ],
      "text/plain": [
       "Pipeline(steps=[('preprocessor',\n",
       "                 ColumnTransformer(transformers=[('num',\n",
       "                                                  Pipeline(steps=[('scaler',\n",
       "                                                                   StandardScaler())]),\n",
       "                                                  ['sin_dayofweek',\n",
       "                                                   'cos_dayofweek', 'sin_month',\n",
       "                                                   'cos_month', 'sin_year',\n",
       "                                                   'cos_year']),\n",
       "                                                 ('cat',\n",
       "                                                  Pipeline(steps=[('encoder',\n",
       "                                                                   OneHotEncoder(handle_unknown='ignore'))]),\n",
       "                                                  ['country', 'store',\n",
       "                                                   'product'])])),\n",
       "                ('regressor',\n",
       "                 RandomForestRegressor(n_estimators=50, random_state=42))])"
      ]
     },
     "execution_count": 4,
     "metadata": {},
     "output_type": "execute_result"
    }
   ],
   "source": [
    "time_series = TimeSeriesSplit(n_splits=5)\n",
    "\n",
    "for fold_index, (train_index, val_index) in enumerate(time_series.split(X)):\n",
    "    \n",
    "    X_train_fold = X.iloc[train_index]\n",
    "    y_train_fold = y.iloc[train_index]\n",
    "    X_val_fold = X.iloc[val_index]\n",
    "    y_val_fold = y.iloc[val_index]\n",
    "    model_pipeline.fit(X_train_fold, y_train_fold)\n",
    "\n",
    "    y_pred_val = model_pipeline.predict(X_val_fold)    \n",
    "    mape = mean_absolute_percentage_error(y_val_fold, y_pred_val)\n",
    "    print(f\"MAPE: {mape}\")\n",
    "    \n",
    "model_pipeline.fit(X,y)"
   ]
  },
  {
   "cell_type": "markdown",
   "metadata": {},
   "source": [
    "**Inference**"
   ]
  },
  {
   "cell_type": "code",
   "execution_count": 5,
   "metadata": {},
   "outputs": [],
   "source": [
    "y_pred_test = model_pipeline.predict(test_data)\n",
    "#submission\n",
    "submission = pd.DataFrame({\"id\": test_data[\"id\"],\"num_sold\":y_pred_test})\n",
    "submission.to_csv(FOLDER + \"submission222.csv\", index=False)\n"
   ]
  }
 ],
 "metadata": {
  "kernelspec": {
   "display_name": "data_science",
   "language": "python",
   "name": "python3"
  },
  "language_info": {
   "codemirror_mode": {
    "name": "ipython",
    "version": 3
   },
   "file_extension": ".py",
   "mimetype": "text/x-python",
   "name": "python",
   "nbconvert_exporter": "python",
   "pygments_lexer": "ipython3",
   "version": "3.11.3"
  }
 },
 "nbformat": 4,
 "nbformat_minor": 2
}
