{
 "cells": [
  {
   "cell_type": "code",
   "execution_count": 85,
   "metadata": {},
   "outputs": [],
   "source": [
    "import matplotlib.pyplot as plt\n",
    "import pandas as pd\n",
    "import numpy as np\n",
    "from sklearn.base import BaseEstimator, TransformerMixin\n",
    "from sklearn.preprocessing import OneHotEncoder\n",
    "from scipy.stats import truncnorm\n",
    "\n",
    "\n",
    "class CustomTransformer(BaseEstimator, TransformerMixin):\n",
    "    \n",
    "    #BaseEstimator allows to set and retrieve parameters in the init method\n",
    "    #TransformerMixin allows to fit and transform the data\n",
    "    \n",
    "    def __init__(self,is_impute_missing_values=True, has_target=True):\n",
    "        self.is_impute_missing_values = is_impute_missing_values\n",
    "        self.has_target = has_target\n",
    "    \n",
    "    def fit(self, X, y=None):\n",
    "        #calculate mean and std for num_sold for imputation of missing values\n",
    "        self.mean_numsold = X[\"num_sold\"].mean()\n",
    "        self.std_numsold = X[\"num_sold\"].std()\n",
    "        return self\n",
    "    \n",
    "    def compute_temporal_variables(self, X):\n",
    "        X[\"date\"] = pd.to_datetime(X[\"date\"],format=\"%Y-%m-%d\")\n",
    "        X[\"year\"] = X[\"date\"].dt.year\n",
    "        X[\"month\"] = X[\"date\"].dt.month\n",
    "        X[\"day\"] = X[\"date\"].dt.day\n",
    "        X[\"quarter\"] = X[\"date\"].dt.quarter\n",
    "        X[\"weekday\"] = X[\"date\"].dt.weekday\n",
    "        X[\"weeks\"] = (X[\"date\"].dt.day-1)//7\n",
    "        X[\"is_weekend\"] = X[\"weekday\"].isin([5,6])\n",
    "        return X\n",
    "\n",
    "    def compute_sin_cos(self, X):\n",
    "        X[\"sin_day\"] = np.sin(2 * np.pi * (X[\"day\"]-1)/31)\n",
    "        X[\"cos_day\"] = np.cos(2 * np.pi * (X[\"day\"]-1)/31)\n",
    "        X[\"sin_month\"] = np.sin(2 * np.pi * (X[\"month\"]-1)/12)\n",
    "        X[\"cos_month\"] = np.cos(2 * np.pi * (X[\"month\"]-1)/12)\n",
    "        X[\"sin_weekday\"] = np.sin(2 * np.pi * (X[\"weekday\"])/7)\n",
    "        X[\"cos_weekday\"] = np.cos(2 * np.pi * (X[\"weekday\"])/7)\n",
    "        X[\"sin_year\"] = np.sin(2 * np.pi * (X[\"year\"]-2010)/7)\n",
    "        X[\"cos_year\"] = np.cos(2 * np.pi * (X[\"year\"]-2010)/7)\n",
    "        return X\n",
    "    \n",
    "    def compute_onehot_variables(self, X):\n",
    "        encoder = OneHotEncoder(sparse_output=False)\n",
    "        one_hot_variables = [\"store\",\"product\",\"country\",\"quarter\",\"weeks\"]\n",
    "        one_hot_encoded = encoder.fit_transform(X[one_hot_variables])\n",
    "        one_hot_df = pd.DataFrame(one_hot_encoded, columns=encoder.get_feature_names_out(one_hot_variables))\n",
    "        X = pd.concat([X, one_hot_df], axis=1)\n",
    "        X.drop(columns=one_hot_variables,inplace=True)\n",
    "        return X\n",
    "\n",
    "    def impute_missing_values(self, X):\n",
    "        n_missing_values = X[\"num_sold\"].isna().sum()\n",
    "        print(n_missing_values)\n",
    "        #retrieve from a gaussian distribution with mean and std but values >0 \n",
    "        random_values = truncnorm.rvs(a=0, b=np.inf, loc=self.mean_numsold, scale=self.std_numsold, size=n_missing_values)\n",
    "        X.loc[X[\"num_sold\"].isna(),\"num_sold\"] = random_values\n",
    "        return X\n",
    "    \n",
    "    def scale_num_sold(self, X):\n",
    "        X[\"num_sold\"] = (X[\"num_sold\"] - X[\"num_sold\"].mean()) / X[\"num_sold\"].std()\n",
    "        return X\n",
    "    \n",
    "    def transform(self, Y):\n",
    "        X = Y.copy()\n",
    "        X = self.compute_temporal_variables(X)\n",
    "        X = self.compute_sin_cos(X)\n",
    "        X.drop(columns=[\"id\",\"date\"],inplace=True)\n",
    "        X = self.compute_onehot_variables(X)\n",
    "        if self.is_impute_missing_values and self.has_target:\n",
    "            X = self.impute_missing_values(X)\n",
    "        if self.has_target:\n",
    "            X[\"num_sold\"] = np.log1p(X[\"num_sold\"])\n",
    "            X = self.scale_num_sold(X)\n",
    "        return X"
   ]
  },
  {
   "cell_type": "code",
   "execution_count": 86,
   "metadata": {},
   "outputs": [],
   "source": [
    "FOLDER = \"playground-series-s5e1/\"\n",
    "train_data = pd.read_csv(FOLDER + \"train.csv\")\n",
    "transfomer = CustomTransformer(is_impute_missing_values=False, has_target=True).fit(train_data)\n",
    "transformed_train_data = transfomer.fit_transform(train_data)\n"
   ]
  },
  {
   "cell_type": "code",
   "execution_count": 87,
   "metadata": {},
   "outputs": [
    {
     "data": {
      "text/plain": [
       "Index(['id', 'date', 'country', 'store', 'product', 'num_sold'], dtype='object')"
      ]
     },
     "execution_count": 87,
     "metadata": {},
     "output_type": "execute_result"
    }
   ],
   "source": [
    "train_data.columns"
   ]
  },
  {
   "cell_type": "code",
   "execution_count": 88,
   "metadata": {},
   "outputs": [
    {
     "name": "stdout",
     "output_type": "stream",
     "text": [
      "8871\n"
     ]
    }
   ],
   "source": [
    "transformer_imputed = CustomTransformer(is_impute_missing_values=True, has_target=True).fit(train_data)\n",
    "transformed_train_data_imputed = transformer_imputed.fit_transform(train_data)"
   ]
  },
  {
   "cell_type": "code",
   "execution_count": 89,
   "metadata": {},
   "outputs": [
    {
     "data": {
      "image/png": "[encoded data removed]",
      "text/plain": [
       "<Figure size 640x480 with 1 Axes>"
      ]
     },
     "metadata": {},
     "output_type": "display_data"
    }
   ],
   "source": [
    "plt.hist(transformed_train_data_imputed[\"num_sold\"],bins=100)\n",
    "plt.hist(transformed_train_data[\"num_sold\"],bins=100)\n",
    "plt.show()"
   ]
  },
  {
   "cell_type": "code",
   "execution_count": 90,
   "metadata": {},
   "outputs": [
    {
     "data": {
      "text/plain": [
       "Index(['num_sold', 'year', 'month', 'day', 'weekday', 'is_weekend', 'sin_day',\n",
       "       'cos_day', 'sin_month', 'cos_month', 'sin_weekday', 'cos_weekday',\n",
       "       'sin_year', 'cos_year', 'store_Discount Stickers',\n",
       "       'store_Premium Sticker Mart', 'store_Stickers for Less',\n",
       "       'product_Holographic Goose', 'product_Kaggle', 'product_Kaggle Tiers',\n",
       "       'product_Kerneler', 'product_Kerneler Dark Mode', 'country_Canada',\n",
       "       'country_Finland', 'country_Italy', 'country_Kenya', 'country_Norway',\n",
       "       'country_Singapore', 'quarter_1', 'quarter_2', 'quarter_3', 'quarter_4',\n",
       "       'weeks_0', 'weeks_1', 'weeks_2', 'weeks_3', 'weeks_4'],\n",
       "      dtype='object')"
      ]
     },
     "execution_count": 90,
     "metadata": {},
     "output_type": "execute_result"
    }
   ],
   "source": [
    "transformed_train_data.columns"
   ]
  },
  {
   "cell_type": "code",
   "execution_count": null,
   "metadata": {},
   "outputs": [],
   "source": [
    "#Now we are ready to train a model "
   ]
  }
 ],
 "metadata": {
  "kernelspec": {
   "display_name": "data_science",
   "language": "python",
   "name": "python3"
  },
  "language_info": {
   "codemirror_mode": {
    "name": "ipython",
    "version": 3
   },
   "file_extension": ".py",
   "mimetype": "text/x-python",
   "name": "python",
   "nbconvert_exporter": "python",
   "pygments_lexer": "ipython3",
   "version": "3.11.3"
  }
 },
 "nbformat": 4,
 "nbformat_minor": 2
}
