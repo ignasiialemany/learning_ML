{
 "cells": [
  {
   "cell_type": "code",
   "execution_count": 248,
   "metadata": {},
   "outputs": [],
   "source": [
    "import matplotlib.pyplot as plt\n",
    "import pandas as pd\n",
    "import numpy as np\n",
    "from sklearn.base import BaseEstimator, TransformerMixin\n",
    "from sklearn.preprocessing import OneHotEncoder\n",
    "from scipy.stats import truncnorm\n",
    "\n",
    "class FeatureTransformer(BaseEstimator, TransformerMixin):\n",
    "    \n",
    "    def __init__(self):\n",
    "        pass\n",
    "    \n",
    "    def fit(self, X, y=None):\n",
    "        return self\n",
    "    \n",
    "    def compute_temporal_variables(self, X):\n",
    "        X[\"date\"] = pd.to_datetime(X[\"date\"],format=\"%Y-%m-%d\")\n",
    "        X[\"year\"] = X[\"date\"].dt.year\n",
    "        X[\"month\"] = X[\"date\"].dt.month\n",
    "        X[\"day\"] = X[\"date\"].dt.day\n",
    "        X[\"quarter\"] = X[\"date\"].dt.quarter\n",
    "        X[\"weekday\"] = X[\"date\"].dt.weekday\n",
    "        X[\"weeks\"] = (X[\"date\"].dt.day-1)//7\n",
    "        X[\"is_weekend\"] = X[\"weekday\"].isin([5,6])\n",
    "        return X\n",
    "\n",
    "    def compute_sin_cos(self, X):\n",
    "        X[\"sin_day\"] = np.sin(2 * np.pi * (X[\"day\"]-1)/31)\n",
    "        X[\"cos_day\"] = np.cos(2 * np.pi * (X[\"day\"]-1)/31)\n",
    "        X[\"sin_month\"] = np.sin(2 * np.pi * (X[\"month\"]-1)/12)\n",
    "        X[\"cos_month\"] = np.cos(2 * np.pi * (X[\"month\"]-1)/12)\n",
    "        X[\"sin_weekday\"] = np.sin(2 * np.pi * (X[\"weekday\"])/7)\n",
    "        X[\"cos_weekday\"] = np.cos(2 * np.pi * (X[\"weekday\"])/7)\n",
    "        X[\"sin_year\"] = np.sin(2 * np.pi * (X[\"year\"]-2010)/7)\n",
    "        X[\"cos_year\"] = np.cos(2 * np.pi * (X[\"year\"]-2010)/7)\n",
    "        return X\n",
    "    \n",
    "    def compute_onehot_variables(self, X):\n",
    "        encoder = OneHotEncoder(sparse_output=False)\n",
    "        one_hot_variables = [\"store\",\"product\",\"country\",\"quarter\",\"weeks\"]\n",
    "        one_hot_encoded = encoder.fit_transform(X[one_hot_variables])\n",
    "        one_hot_df = pd.DataFrame(one_hot_encoded, columns=encoder.get_feature_names_out(one_hot_variables), index=X.index)\n",
    "        X = X.drop(columns=one_hot_variables)\n",
    "        X = pd.concat([X, one_hot_df], axis=1)\n",
    "        return X\n",
    "    \n",
    "    def transform(self, X):\n",
    "        X = X.copy()\n",
    "        X = self.compute_temporal_variables(X)\n",
    "        X = self.compute_sin_cos(X)\n",
    "        X = self.compute_onehot_variables(X)\n",
    "        X.drop(columns=[\"id\",\"date\"],inplace=True)\n",
    "        return X"
   ]
  },
  {
   "cell_type": "code",
   "execution_count": 249,
   "metadata": {},
   "outputs": [],
   "source": [
    "#import split data\n",
    "from sklearn.model_selection import train_test_split\n",
    "FOLDER = \"playground-series-s5e1/\"\n",
    "train_data = pd.read_csv(FOLDER + \"train.csv\")\n",
    "test_data = pd.read_csv(FOLDER + \"test.csv\")\n",
    "y = train_data[\"num_sold\"]\n",
    "\n",
    "def transform_y(y):\n",
    "    y = y.copy()\n",
    "    n_missing_values = y.isna().sum()\n",
    "    random_values = truncnorm.rvs(a=0, b=np.inf, loc=y.mean(), scale=y.std(), size=n_missing_values)\n",
    "    y.loc[y.isna()] = random_values\n",
    "    return np.log1p(y)\n",
    "\n",
    "def inverse_transform_y(y):\n",
    "    return np.expm1(y)\n",
    "\n",
    "y = transform_y(y)\n",
    "X_train, X_test, y_train, y_test = train_test_split(train_data.drop(columns=[\"num_sold\"]),y, test_size=0.15, random_state=42)\n"
   ]
  },
  {
   "cell_type": "markdown",
   "metadata": {},
   "source": [
    "**Train and prediction**"
   ]
  },
  {
   "cell_type": "code",
   "execution_count": 257,
   "metadata": {},
   "outputs": [
    {
     "name": "stdout",
     "output_type": "stream",
     "text": [
      "17.038609332142883\n"
     ]
    }
   ],
   "source": [
    "from sklearn.pipeline import Pipeline\n",
    "from sklearn.compose import TransformedTargetRegressor\n",
    "from sklearn.ensemble import RandomForestRegressor\n",
    "from sklearn.linear_model import LinearRegression\n",
    "from sklearn.metrics import mean_absolute_percentage_error\n",
    "\n",
    "feature_transformer = FeatureTransformer()\n",
    "\n",
    "#Model for now we are using RandomForestRegressor\n",
    "model = RandomForestRegressor()\n",
    "\n",
    "#The pipeline calls in cascade the transformers for the X_train until the last step. In the last step, the output is transformed and the model is trained\n",
    "pipeline = Pipeline(steps=[(\"feature_transformer\", feature_transformer), \n",
    "                           (\"model\", model)])\n",
    "\n",
    "pipeline.fit(X_train, y_train)\n",
    "y_pred = pipeline.predict(X_test)\n",
    "\n",
    "y_pred_anti = inverse_transform_y(y_pred)\n",
    "y_test_anti = inverse_transform_y(y_test)\n",
    "\n",
    "mape = mean_absolute_percentage_error(y_test_anti, y_pred_anti)\n",
    "print(f\"MAPE: {mape:.2f}%\")"
   ]
  },
  {
   "cell_type": "markdown",
   "metadata": {},
   "source": [
    "**Inference**"
   ]
  },
  {
   "cell_type": "code",
   "execution_count": 251,
   "metadata": {},
   "outputs": [],
   "source": [
    "y_pred_test = pipeline.predict(test_data)\n",
    "y_pred_test_anti = inverse_transform_y(y_pred_test)\n",
    "\n",
    "submission = pd.DataFrame({\"id\":test_data[\"id\"],\"num_sold\":y_pred_test_anti})\n",
    "submission.to_csv(FOLDER + \"submission.csv\", index=False)"
   ]
  },
  {
   "cell_type": "code",
   "execution_count": null,
   "metadata": {},
   "outputs": [],
   "source": []
  }
 ],
 "metadata": {
  "kernelspec": {
   "display_name": "data_science",
   "language": "python",
   "name": "python3"
  },
  "language_info": {
   "codemirror_mode": {
    "name": "ipython",
    "version": 3
   },
   "file_extension": ".py",
   "mimetype": "text/x-python",
   "name": "python",
   "nbconvert_exporter": "python",
   "pygments_lexer": "ipython3",
   "version": "3.11.3"
  }
 },
 "nbformat": 4,
 "nbformat_minor": 2
}
